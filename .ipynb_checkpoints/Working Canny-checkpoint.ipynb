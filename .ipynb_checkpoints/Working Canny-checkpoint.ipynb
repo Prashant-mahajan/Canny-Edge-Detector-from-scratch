{
 "cells": [
  {
   "cell_type": "code",
   "execution_count": 25,
   "metadata": {},
   "outputs": [
    {
     "name": "stdout",
     "output_type": "stream",
     "text": [
      "[[ 31  55  31 ..., 255 255 255]\n",
      " [130 157  76 ..., 255 255 255]\n",
      " [232 250 122 ..., 255 255 255]\n",
      " ..., \n",
      " [ 65  65  65 ...,  32  32  31]\n",
      " [ 65  65  65 ...,  37  37  34]\n",
      " [ 65  65  65 ...,  35  34  32]]\n"
     ]
    },
    {
     "data": {
      "text/plain": [
       "True"
      ]
     },
     "execution_count": 25,
     "metadata": {},
     "output_type": "execute_result"
    }
   ],
   "source": [
    "from PIL import Image\n",
    "import math\n",
    "import sys\n",
    "import numpy as np\n",
    "import cv2\n",
    "\n",
    "def gaussianSmoothing(image):\n",
    "    \"\"\"\n",
    "\n",
    "    :type image: object\n",
    "    \"\"\"\n",
    "    imageArray = np.array(image)\n",
    "    gaussianArr = np.array(image)\n",
    "    sum = 0\n",
    "\n",
    "    for i in range(3, image.shape[0]-3):\n",
    "        for j in range(3, image.shape[1]-3):\n",
    "            sum = applyGaussianFilterAtPoint(imageArray, i, j)\n",
    "            gaussianArr[i][j] = sum\n",
    "\n",
    "    return gaussianArr\n",
    "\n",
    "def applyGaussianFilterAtPoint(imageData, row, column):\n",
    "    sum = 0\n",
    "    for i in range(row-3, row+4):\n",
    "        for j in range(column-3, column+4):\n",
    "            sum += gaussian_filter[i - row+3][j - column+3] * imageData[i][j]\n",
    "\n",
    "    # Normalizing the results\n",
    "    return sum/140\n",
    "\n",
    "\n",
    "def liesInUnderRegion(imgArr, i, j):\n",
    "    return imgArr[i][j] == None or imgArr[i][j + 1] == None or imgArr[i][j - 1] == None or imgArr[i + 1][j] == None or \\\n",
    "           imgArr[i + 1][j + 1] == None or imgArr[i + 1][j - 1] == None or imgArr[i - 1][j] == None or \\\n",
    "           imgArr[i - 1][j + 1] == None or imgArr[i - 1][j - 1] == None\n",
    "\n",
    "def prewittAtX(imageData, row, column):\n",
    "    sum = 0\n",
    "    horizontal = 0\n",
    "    for i in range(row-1, row+1):\n",
    "        for j in range(column-1, column+1):\n",
    "#             sum += prewittX[i - row + 1][j - column + 1] * imageData[i][j]\n",
    "            temp = imageData[row+i][column+j]\n",
    "            a = Gx[1 + i][1 + j]\n",
    "            horizontal += abs(temp * a)\n",
    "    return horizontal \n",
    "\n",
    "def getGradientX(imgArr, height, width):\n",
    "    imageData = np.empty(shape=(height, width))\n",
    "#     print(imageData.shape)\n",
    "#     print(height, width)\n",
    "#     print(imgArr.shape)\n",
    "    for i in range(4,height-3):\n",
    "        for j in range(4,width-3):\n",
    "            if liesInUnderRegion(imgArr, i, j):\n",
    "                imageData[i][j] = None\n",
    "            else:\n",
    "                imageData[i][j] = prewittAtX(imgArr, i, j)\n",
    "\n",
    "    return imageData\n",
    "\n",
    "\n",
    "gaussian_filter = [[1, 1, 2, 2, 2, 1, 1],\n",
    "                   [1, 2, 2, 4, 2, 2, 1],\n",
    "                   [2, 2, 4, 8, 4, 2, 2],\n",
    "                   [2, 4, 8, 16, 8, 4, 2],\n",
    "                   [2, 2, 4, 8, 4, 2, 2],\n",
    "                   [1, 2, 2, 4, 2, 2, 1],\n",
    "                   [1, 1, 2, 2, 2, 1, 1]]\n",
    "\n",
    "prewittX = [[-1, 0, 1],\n",
    "            [-1, 0, 1],\n",
    "            [-1, 0, 1]]\n",
    "\n",
    "prewittY = [[1, 1, 1],\n",
    "            [0, 0, 0],\n",
    "            [-1, -1, -1]]\n",
    "\n",
    "# Read Image and convert to 2D numpy array\n",
    "img = Image.open('Images/zebra-crossing-1.bmp').convert('LA')    # 'LA' to convert to Gray scale\n",
    "image = np.array(img)\n",
    "image = image[:,:,0]      # To convert in 2D matrix\n",
    "\n",
    "height = image.shape[0]\n",
    "width = image.shape[1]\n",
    "\n",
    "# Normalized Gaussian Smoothing\n",
    "gaussianData = gaussianSmoothing(image)\n",
    "print(gaussianData)\n",
    "cv2.imwrite('Outputs/filter_gauss.jpg', gaussianData)\n",
    "\n",
    "# Normalized Horizontal Gradient\n",
    "# Gx = getGradientX(gaussianData, height, width)\n",
    "# cv2.imwrite('Outputs/XGradient.jpg', Gx)"
   ]
  },
  {
   "cell_type": "code",
   "execution_count": null,
   "metadata": {},
   "outputs": [],
   "source": []
  }
 ],
 "metadata": {
  "kernelspec": {
   "display_name": "IPython (Python 3)",
   "language": "python",
   "name": "python3"
  },
  "language_info": {
   "codemirror_mode": {
    "name": "ipython",
    "version": 3
   },
   "file_extension": ".py",
   "mimetype": "text/x-python",
   "name": "python",
   "nbconvert_exporter": "python",
   "pygments_lexer": "ipython3",
   "version": "3.4.5"
  }
 },
 "nbformat": 4,
 "nbformat_minor": 2
}
